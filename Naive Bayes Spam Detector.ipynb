{
 "cells": [
  {
   "cell_type": "markdown",
   "id": "4a6d3ff3",
   "metadata": {
    "id": "4a6d3ff3"
   },
   "source": "## SPAM OR HAM DETECTION USING NAIVE BAYES"
  },
  {
   "cell_type": "markdown",
   "id": "8f5e4faf",
   "metadata": {
    "id": "8f5e4faf"
   },
   "source": [
    "### 1. Introduction\n",
    "* Brief overview of the task.\n",
    "    * The task involves building a classifier that can categorize emails as either 'spam' (unsolicited commercial emails) or 'ham' (legitimate emails). To accomplish this, you will use the Naive Bayes algorithm, which is a probabilistic classifier based on applying Bayes' theorem with strong (naive) independence assumptions between the features.\n",
    "* Answer the questions like, What are the main components of a Naive Bayes classifier?, Why do we use Naive Bayes in text classification tasks?, What is the significance of Laplace smoothing in Naive Bayes? etc.\n",
    "    * What are the main components of a Naive Bayes classifier?\n",
    "        * Prior Probability: The initial probability of an event (in this case, an email being spam or ham) before any additional information is provided.\n",
    "        * Prior Probability: The initial probability of an event (in this case, an email being spam or ham) before any additional information is provided.\n",
    "        * Posterior Probability: The probability of the class label given the observed data, which is calculated using Bayes' theorem. \n",
    "    * Why do we use Naive Bayes in text classification tasks?\n",
    "        * Simplicity: It is easy to implement and understand.\n",
    "        * Efficiency: It is computationally efficient, as it involves simple counting and probability calculations.\n",
    "        * Performance: Despite the simplicity, it often performs well in practice, especially in text classification.\n",
    "        * Scalability: It scales well with the dimensionality of the data, which is typically high in text-related tasks due to large vocabularies.\n",
    "        * Baseline Model: It serves as a good baseline model to compare against more complex algorithms.\n",
    "    * What is the significance of Laplace smoothing in Naive Bayes?\n",
    "        * Laplace smoothing, also known as additive smoothing, is significant for several reasons:\n",
    "            * Zero Probability Problem: Without smoothing, if a word in the test set never appeared in the training set for a particular class, the entire probability of the document being in that class would be zero. This is not desirable as it disregards other evidence.\n",
    "            * Generalization: Smoothing allows the model to better generalize by assigning a small non-zero probability to unseen words. \n",
    "            * Stability: It stabilizes the probability estimates by ensuring that there are no infinite weights due to zero counts.\n",
    "            \n",
    "* Description of the dataset used for text classification."
   ]
  },
  {
   "cell_type": "markdown",
   "id": "NoBnqawf6aj3",
   "metadata": {
    "id": "NoBnqawf6aj3"
   },
   "source": [
    "### 2. Importing Necessary Libraries and Reading the Data"
   ]
  },
  {
   "cell_type": "code",
   "execution_count": 92,
   "id": "b62b49c5",
   "metadata": {
    "id": "b62b49c5",
    "scrolled": true,
    "ExecuteTime": {
     "end_time": "2024-05-20T16:45:28.700503Z",
     "start_time": "2024-05-20T16:45:28.282691Z"
    }
   },
   "outputs": [],
   "source": [
    "## Import necessary libraries\n",
    "import matplotlib.pyplot as plt\n",
    "from collections import defaultdict\n",
    "from sklearn.metrics import accuracy_score, classification_report\n",
    "import re\n",
    "import numpy as np\n",
    "import pandas as pd\n",
    "from sklearn.feature_extraction.text import CountVectorizer, TfidfTransformer  \n",
    "from sklearn.model_selection import train_test_split\n",
    "\n",
    "\n",
    "## Read csv data\n",
    "\n",
    "df = pd.read_csv('emails.csv')\n"
   ]
  },
  {
   "cell_type": "markdown",
   "source": [],
   "metadata": {
    "collapsed": false
   },
   "id": "4c253b455f2c1b0a"
  },
  {
   "cell_type": "markdown",
   "id": "_AGeFB1k6FA5",
   "metadata": {
    "id": "_AGeFB1k6FA5"
   },
   "source": [
    "### 3. Data Understanding and Preperation"
   ]
  },
  {
   "cell_type": "markdown",
   "id": "ded0488b",
   "metadata": {
    "id": "ded0488b"
   },
   "source": [
    "* Examine the E-Mail Spam Dataset to understand its structure and contents.\n",
    "* Using the histograms show the distribution of dataset into the spam and ham\n",
    "emails. (or you can use pie chart)\n",
    "* Assess the feasibility of current dataset to predict spam or ham based on the\n",
    "words present in the email text.\n",
    "* To do so, calculate the frequencies of the words in spam and ham emails. You\n",
    "can create a frequency dictionary to effectively examine the words and use\n",
    "them later for Naive Bayes classification.\n",
    "* Based on the word frequencies, consider leaving out some unique words that\n",
    "appear less frequently than a specific frequency or appear more frequently than\n",
    "a specific frequency since they might not be useful. To decide the threshold,\n",
    "you might need to plot the word frequencies and see in which range of the\n",
    "frequencies most words are found. Explain why some words might not be\n",
    "useful for prediction and show your reasoning.\n",
    "* Provide three examples of keywords that may be indicative of spam or ham,\n",
    "along with their respective frequencies in spam and ham emails. To decide\n",
    "this you can use a scatter plot to visualize the word frequencies in logarithmic\n",
    "scale. You can also choose another visualization process that might help you\n",
    "to decide. Explain and show your reasoning."
   ]
  },
  {
   "cell_type": "code",
   "execution_count": 93,
   "id": "85d400d4",
   "metadata": {
    "id": "85d400d4",
    "ExecuteTime": {
     "end_time": "2024-05-20T16:45:28.948208Z",
     "start_time": "2024-05-20T16:45:28.735925Z"
    }
   },
   "outputs": [
    {
     "name": "stdout",
     "output_type": "stream",
     "text": [
      "Display the first few rows of the DataFrame\n",
      "                                                text  spam\n",
      "0  Subject: naturally irresistible your corporate...     1\n",
      "1  Subject: the stock trading gunslinger  fanny i...     1\n",
      "2  Subject: unbelievable new homes made easy  im ...     1\n",
      "3  Subject: 4 color printing special  request add...     1\n",
      "4  Subject: do not have money , get software cds ...     1\n",
      "\n",
      "Display the structure of the DataFrame\n",
      "<class 'pandas.core.frame.DataFrame'>\n",
      "RangeIndex: 5728 entries, 0 to 5727\n",
      "Data columns (total 2 columns):\n",
      " #   Column  Non-Null Count  Dtype \n",
      "---  ------  --------------  ----- \n",
      " 0   text    5728 non-null   object\n",
      " 1   spam    5728 non-null   int64 \n",
      "dtypes: int64(1), object(1)\n",
      "memory usage: 89.6+ KB\n",
      "None\n",
      "\n",
      "Get a summary of statistics for numeric columns\n",
      "              spam\n",
      "count  5728.000000\n",
      "mean      0.238827\n",
      "std       0.426404\n",
      "min       0.000000\n",
      "25%       0.000000\n",
      "50%       0.000000\n",
      "75%       0.000000\n",
      "max       1.000000\n",
      "\n",
      "Check for missing values\n",
      "text    0\n",
      "spam    0\n",
      "dtype: int64\n"
     ]
    }
   ],
   "source": [
    "# Examine the E-Mail Spam Dataset to understand its structure and contents.\n",
    "\n",
    "print(\"Display the first few rows of the DataFrame\")\n",
    "print(df.head())\n",
    "print()\n",
    "\n",
    "print(\"Display the structure of the DataFrame\")\n",
    "print(df.info())\n",
    "print()\n",
    "\n",
    "print(\"Get a summary of statistics for numeric columns\")\n",
    "print(df.describe())\n",
    "print()\n",
    "\n",
    "print(\"Check for missing values\")\n",
    "print(df.isnull().sum())"
   ]
  },
  {
   "cell_type": "code",
   "outputs": [
    {
     "data": {
      "text/plain": "<Figure size 640x480 with 1 Axes>",
      "image/png": "[encoded data removed]"
     },
     "metadata": {},
     "output_type": "display_data"
    }
   ],
   "source": [
    "# Using the histograms show the distribution of dataset into the spam and ham emails. (or you can use pie chart)\n",
    "\n",
    "df['spam'].value_counts().plot(kind='bar', color=['red', 'blue'])\n",
    "plt.title('Distribution of Spam and Ham Emails')\n",
    "plt.xlabel('Email Type')\n",
    "plt.ylabel('Frequency')\n",
    "plt.show()"
   ],
   "metadata": {
    "collapsed": false,
    "ExecuteTime": {
     "end_time": "2024-05-20T16:45:29.488098Z",
     "start_time": "2024-05-20T16:45:28.843585Z"
    }
   },
   "id": "9a4da5396750c150",
   "execution_count": 94
  },
  {
   "cell_type": "code",
   "outputs": [],
   "source": [
    "# Assess the feasibility of current dataset to predict spam or ham based on the words present in the email text. \n",
    "\n"
   ],
   "metadata": {
    "collapsed": false,
    "ExecuteTime": {
     "end_time": "2024-05-20T16:45:29.509485Z",
     "start_time": "2024-05-20T16:45:29.441935Z"
    }
   },
   "id": "8fdcabc31350b413",
   "execution_count": 95
  },
  {
   "cell_type": "code",
   "outputs": [],
   "source": [
    "# To do so, calculate the frequencies of the words in spam and ham emails. You can create a frequency dictionary to effectively examine the words and use them later for Naive Bayes classification.\n",
    "\n",
    "spam_word_freq = defaultdict(int)\n",
    "ham_word_freq = defaultdict(int)\n",
    "\n",
    "def tokenize(text):\n",
    "    text = text.lower()  # convert to lowercase\n",
    "    text = re.sub(r'[^\\w\\s]', '', text)  # remove punctuation\n",
    "    words = text.split()  # split into words\n",
    "    return words\n",
    "\n",
    "for index, row in df.iterrows():\n",
    "    words = tokenize(row['text']) \n",
    "    if row['spam']:  \n",
    "        for word in words:\n",
    "            spam_word_freq[word] += 1\n",
    "    else:\n",
    "        for word in words:\n",
    "            ham_word_freq[word] += 1\n",
    "\n"
   ],
   "metadata": {
    "collapsed": false,
    "ExecuteTime": {
     "end_time": "2024-05-20T16:45:32.775314Z",
     "start_time": "2024-05-20T16:45:29.549463Z"
    }
   },
   "id": "e12655a66d481b70",
   "execution_count": 96
  },
  {
   "cell_type": "code",
   "outputs": [
    {
     "data": {
      "text/plain": "<Figure size 1000x600 with 1 Axes>",
      "image/png": "[encoded data removed]"
     },
     "metadata": {},
     "output_type": "display_data"
    }
   ],
   "source": [
    "# Based on the word frequencies, consider leaving out some unique words that appear less frequently than a specific frequency or appear more frequently than a specific frequency since they might not be useful. To decide the threshold, you might need to plot the word frequencies and see in which range of the frequencies most words are found. Explain why some words might not be useful for prediction and show your reasoning.\n",
    "\n",
    "combined_freq = defaultdict(int)\n",
    "for word, freq in spam_word_freq.items():\n",
    "    combined_freq[word] += freq\n",
    "for word, freq in ham_word_freq.items():\n",
    "    combined_freq[word] += freq\n",
    "\n",
    "sorted_word_freq = sorted(combined_freq.items(), key=lambda item: item[1], reverse=True)\n",
    "\n",
    "words, freqs = zip(*sorted_word_freq)\n",
    "\n",
    "\n",
    "plt.figure(figsize=(10, 6))\n",
    "plt.bar(range(len(words)), freqs, color='red')  \n",
    "plt.xlabel('Word Index')\n",
    "plt.ylabel('Frequency')\n",
    "plt.yscale('log')  # Log scale on the y-axis\n",
    "plt.title('Word Frequency Distribution')\n",
    "plt.show()"
   ],
   "metadata": {
    "collapsed": false,
    "ExecuteTime": {
     "end_time": "2024-05-20T16:46:35.461217Z",
     "start_time": "2024-05-20T16:45:32.794172Z"
    }
   },
   "id": "2d5275a52026ff8f",
   "execution_count": 97
  },
  {
   "cell_type": "code",
   "outputs": [
    {
     "name": "stdout",
     "output_type": "stream",
     "text": [
      "buy is 173\n",
      "free is 606\n",
      "money is 662\n"
     ]
    },
    {
     "data": {
      "text/plain": "<Figure size 800x600 with 1 Axes>",
      "image/png": "[encoded data removed]"
     },
     "metadata": {},
     "output_type": "display_data"
    }
   ],
   "source": [
    "# Provide three examples of keywords that may be indicative of spam or ham, along with their respective frequencies in spam and ham emails. To decide this you can use a scatter plot to visualize the word frequencies in logarithmic scale. You can also choose another visualization process that might help you to decide. Explain and show your reasoning.\n",
    "\n",
    "\n",
    "words = [\"buy\", \"free\", \"money\"]\n",
    "print(\"buy is\", spam_word_freq[\"buy\"])\n",
    "print(\"free is\", spam_word_freq[\"free\"])\n",
    "print(\"money is\", spam_word_freq[\"money\"])\n",
    "\n",
    "spam_freqs = [(spam_word_freq[word] / len(spam_word_freq)) for word in words]\n",
    "ham_freqs = [(ham_word_freq[word] / len(ham_word_freq))for word in words]\n",
    "\n",
    "plt.figure(figsize=(8, 6))\n",
    "plt.scatter(spam_freqs, ham_freqs, color='red')\n",
    "\n",
    "for i, word in enumerate(words):\n",
    "    plt.annotate(word, (spam_freqs[i], ham_freqs[i]))\n",
    "\n",
    "plt.xscale('log')\n",
    "plt.yscale('log')\n",
    "\n",
    "plt.title('Keyword Frequencies in Spam and Ham Emails')\n",
    "plt.xlabel('Spam Email Frequency')\n",
    "plt.ylabel('Ham Email Frequency')\n",
    "plt.grid(True)\n",
    "plt.show()"
   ],
   "metadata": {
    "collapsed": false,
    "ExecuteTime": {
     "end_time": "2024-05-20T16:46:36.082275Z",
     "start_time": "2024-05-20T16:46:35.475537Z"
    }
   },
   "id": "f78162d85ff9ea1b",
   "execution_count": 98
  },
  {
   "cell_type": "markdown",
   "id": "0g05fTF-O72H",
   "metadata": {
    "id": "0g05fTF-O72H"
   },
   "source": [
    "### 4. Data Representation and Naive Bayes Implementation"
   ]
  },
  {
   "cell_type": "markdown",
   "id": "246a08a2",
   "metadata": {
    "id": "246a08a2"
   },
   "source": [
    "* Split your dataset into training and test sets (80-20 split ratio).\n",
    "* Prepare your training and test data to align with the requirements of your\n",
    "Naive Bayes implementation. Remember, the training data will provide the\n",
    "necessary insights to predict whether the test data is spam or ham.\n",
    "* Represent the data using the Bag of Words (BoW) model with two methods:\n",
    "Unigram and Bigram. You need to compare the usage of these two methods.\n",
    "* Create Unigrams and Bigrams then implement your own Naive Bayes classifier,\n",
    "considering:\n",
    "\n",
    "  1.   Log probabilities to prevent numerical underflow.\n",
    "  2.   Dealing with words not encountered during training (possibly using Laplace\n",
    "  smoothing).\n",
    "  3. Using a dictionary for BoW representation (either implementing your own\n",
    "  method or utilizing CountVectorizer from scikit-learn)"
   ]
  },
  {
   "cell_type": "code",
   "execution_count": 98,
   "id": "2e9291b8",
   "metadata": {
    "id": "2e9291b8",
    "ExecuteTime": {
     "end_time": "2024-05-20T16:46:36.087716Z",
     "start_time": "2024-05-20T16:46:36.082677Z"
    }
   },
   "outputs": [],
   "source": []
  },
  {
   "cell_type": "markdown",
   "id": "nr8JJ9lb7Q_H",
   "metadata": {
    "id": "nr8JJ9lb7Q_H"
   },
   "source": [
    "#### Splitting the Data"
   ]
  },
  {
   "cell_type": "code",
   "execution_count": 99,
   "metadata": {
    "id": "fZmfIN4wWYip",
    "ExecuteTime": {
     "end_time": "2024-05-20T16:46:44.176670Z",
     "start_time": "2024-05-20T16:46:36.133202Z"
    }
   },
   "outputs": [],
   "source": [
    "X = df['text']\n",
    "y = df['spam']\n",
    "\n",
    "\n",
    "X_train, X_test, y_train, y_test = train_test_split(X, y, test_size=0.2, random_state=42)\n",
    "\n",
    "vectorizer_unigram = CountVectorizer(ngram_range=(1, 1))\n",
    "X_train_unigram = vectorizer_unigram.fit_transform(X_train).toarray()\n",
    "X_test_unigram = vectorizer_unigram.transform(X_test).toarray()\n",
    "\n",
    "\n",
    "vectorizer_bigram = CountVectorizer(ngram_range=(2, 2))\n",
    "X_train_bigram = vectorizer_bigram.fit_transform(X_train).toarray()\n",
    "X_test_bigram = vectorizer_bigram.transform(X_test).toarray()\n",
    "\n"
   ],
   "id": "fZmfIN4wWYip"
  },
  {
   "cell_type": "markdown",
   "source": [
    "#### Naive Bayes Implementation"
   ],
   "metadata": {
    "collapsed": false
   },
   "id": "aaf7cb7e7b8bfb20"
  },
  {
   "cell_type": "code",
   "outputs": [],
   "source": [
    "class NaiveBayes:\n",
    "    def __init__(self):\n",
    "        self.classes = [0, 1]\n",
    "        self.class_priors = {0: 0, 1: 0}\n",
    "        self.feature_probs = {}\n",
    "        \n",
    "\n",
    "    def fit(self, X, y):\n",
    "        \n",
    "        n_samples, n_features = X.shape\n",
    "        self.class_priors = {c: np.sum(y == c) / n_samples for c in self.classes}\n",
    "        \n",
    "        self.feature_probs = {c: np.zeros(n_features) for c in self.classes}\n",
    "        \n",
    "        for c in self.classes:\n",
    "            X_c = X[y == c]\n",
    "            self.feature_probs[c] = (np.sum(X_c, axis=0) + 1) / (X_c.shape[0] + 2)\n",
    "            \n",
    "    def predict(self, X):\n",
    "        y_pred = []\n",
    "        for x in X:\n",
    "            y_pred.append(self.predict_for_sample(x))\n",
    "        return np.array(y_pred)\n",
    "    \n",
    "    def predict_for_sample(self, x):\n",
    "        posteriors = {}\n",
    "        \n",
    "        for c in self.classes:\n",
    "            prior = np.log(self.class_priors[c])\n",
    "            conditional = np.sum(np.log(self.feature_probs[c]) * x)\n",
    "            posteriors[c] = prior + conditional\n",
    "        \n",
    "        if posteriors[0] > posteriors[1]:\n",
    "            return 0\n",
    "        else:\n",
    "            return 1\n"
   ],
   "metadata": {
    "collapsed": false,
    "ExecuteTime": {
     "end_time": "2024-05-20T16:46:44.196079Z",
     "start_time": "2024-05-20T16:46:44.188122Z"
    }
   },
   "id": "6a4b31147ef6415b",
   "execution_count": 100
  },
  {
   "cell_type": "markdown",
   "source": [
    "* Unigrams\n",
    "    * Definition: Unigrams are single words extracted from the text.\n",
    "    * Example: From the email \"Free money now\", the unigrams would be [\"Free\", \"money\", \"now\"].\n",
    "    * Advantages of Unigrams:\n",
    "        * Simplicity: Easier to implement and interpret. Each word is treated independently.\n",
    "        * Lower Dimensionality: Unigrams result in fewer features compared to bigrams, which can simplify the model and reduce computational resources.\n",
    "        * Training Data Efficiency: Requires less training data to learn meaningful patterns, as each word's occurrence is a potential feature.\n",
    "    * Disadvantages of Unigrams:\n",
    "        * Context Ignorance: Unigrams ignore the context in which words appear, potentially losing valuable information about word relationships.\n",
    "        * Ambiguity: Words with multiple meanings (polysemy) and phrases with different interpretations are not captured well.\n",
    "* Bigrams\n",
    "    * Definition: Bigrams are pairs of consecutive words extracted from the text.\n",
    "    * Example: From the email \"Free money now\", the bigrams would be [\"Free money\", \"money now\"].\n",
    "    * Advantages of Bigrams:\n",
    "        * Context Capture: Bigrams capture some contextual information by considering word pairs, which can help disambiguate words and understand common phrases better.\n",
    "        * Phrase Detection: Bigrams can identify common spam phrases (e.g., \"click here\", \"free money\") that unigrams might miss.\n",
    "    * Disadvantages of Bigrams:\n",
    "        * Higher Dimensionality: Bigrams significantly increase the number of features, which can complicate the model and require more computational resources.\n",
    "        * Sparse Data: The frequency of specific bigrams can be low, leading to sparse data issues where many bigram features may not appear frequently enough to be useful.\n",
    "        * More Training Data: Bigrams generally require more training data to achieve reliable results, as the model needs to learn the associations between word pairs.\n"
   ],
   "metadata": {
    "collapsed": false
   },
   "id": "acd6a511398f861"
  },
  {
   "cell_type": "markdown",
   "id": "-nASDnRjz8kT",
   "metadata": {
    "id": "-nASDnRjz8kT"
   },
   "source": [
    "#### Training with Unigram"
   ]
  },
  {
   "cell_type": "code",
   "outputs": [],
   "source": [
    "nb_unigram = NaiveBayes()\n",
    "nb_unigram.fit(X_train_unigram, y_train)"
   ],
   "metadata": {
    "collapsed": false,
    "ExecuteTime": {
     "end_time": "2024-05-20T16:46:47.254946Z",
     "start_time": "2024-05-20T16:46:44.194835Z"
    }
   },
   "id": "b7159b4b4a9bc299",
   "execution_count": 101
  },
  {
   "cell_type": "markdown",
   "id": "dM6X55to0Fuz",
   "metadata": {
    "id": "dM6X55to0Fuz"
   },
   "source": [
    "#### Testing with Unigram"
   ]
  },
  {
   "cell_type": "code",
   "outputs": [
    {
     "name": "stdout",
     "output_type": "stream",
     "text": [
      "Unigram Accuracy: 0.9825479930191972\n",
      "Unigram Classification Report:\n",
      "               precision    recall  f1-score   support\n",
      "\n",
      "           0       0.98      1.00      0.99       856\n",
      "           1       0.99      0.94      0.96       290\n",
      "\n",
      "    accuracy                           0.98      1146\n",
      "   macro avg       0.99      0.97      0.98      1146\n",
      "weighted avg       0.98      0.98      0.98      1146\n"
     ]
    }
   ],
   "source": [
    "y_pred_unigram = nb_unigram.predict(X_test_unigram)\n",
    "print(\"Unigram Accuracy:\", accuracy_score(y_test, y_pred_unigram))\n",
    "print(\"Unigram Classification Report:\\n\", classification_report(y_test, y_pred_unigram))"
   ],
   "metadata": {
    "collapsed": false,
    "ExecuteTime": {
     "end_time": "2024-05-20T16:46:48.112515Z",
     "start_time": "2024-05-20T16:46:47.262377Z"
    }
   },
   "id": "878e68dd",
   "execution_count": 102
  },
  {
   "cell_type": "markdown",
   "id": "k8Wji9IdRHNn",
   "metadata": {
    "id": "k8Wji9IdRHNn"
   },
   "source": [
    "#### Training and Testing with Bigram"
   ]
  },
  {
   "cell_type": "markdown",
   "source": [],
   "metadata": {
    "collapsed": false
   },
   "id": "84288fa152754668"
  },
  {
   "cell_type": "code",
   "execution_count": 103,
   "id": "1a6c142a",
   "metadata": {
    "id": "1a6c142a",
    "ExecuteTime": {
     "end_time": "2024-05-20T16:47:36.084161Z",
     "start_time": "2024-05-20T16:46:48.114259Z"
    }
   },
   "outputs": [
    {
     "name": "stdout",
     "output_type": "stream",
     "text": [
      "Bigram Accuracy: 0.9799301919720768\n",
      "Bigram Classification Report:\n",
      "               precision    recall  f1-score   support\n",
      "\n",
      "           0       0.99      0.98      0.99       856\n",
      "           1       0.94      0.98      0.96       290\n",
      "\n",
      "    accuracy                           0.98      1146\n",
      "   macro avg       0.97      0.98      0.97      1146\n",
      "weighted avg       0.98      0.98      0.98      1146\n"
     ]
    }
   ],
   "source": [
    "nb_bigram = NaiveBayes()\n",
    "nb_bigram.fit(X_train_bigram, y_train)\n",
    "y_pred_bigram = nb_bigram.predict(X_test_bigram)\n",
    "print(\"Bigram Accuracy:\", accuracy_score(y_test, y_pred_bigram))\n",
    "print(\"Bigram Classification Report:\\n\", classification_report(y_test, y_pred_bigram))\n"
   ]
  },
  {
   "cell_type": "markdown",
   "source": [],
   "metadata": {
    "collapsed": false
   },
   "id": "e3d1a2958dc95193"
  },
  {
   "cell_type": "markdown",
   "id": "mbp-E6b7x7Zm",
   "metadata": {
    "id": "mbp-E6b7x7Zm"
   },
   "source": [
    "### 5. Analyzing Word Influence"
   ]
  },
  {
   "cell_type": "markdown",
   "source": [
    "* List the 10 words whose presence most strongly predicts that an email is ham.\n",
    "* List the 10 words whose absence most strongly predicts that an email is ham.\n",
    "* List the 10 words whose presence most strongly predicts that an email is spam.\n",
    "* List the 10 words whose absence most strongly predicts that an email is spam.\n",
    "* Explain how these words were obtained in terms of conditional probabilities\n",
    "used in the Naive Bayes algorithm.\n",
    "* Compare the influence of word presence vs absence on predicting spam or ham."
   ],
   "metadata": {
    "id": "irrMK5z5XMP9"
   },
   "id": "irrMK5z5XMP9"
  },
  {
   "cell_type": "code",
   "execution_count": 104,
   "id": "ir9EQcpWDmo_",
   "metadata": {
    "id": "ir9EQcpWDmo_",
    "ExecuteTime": {
     "end_time": "2024-05-20T16:47:38.253713Z",
     "start_time": "2024-05-20T16:47:36.130470Z"
    }
   },
   "outputs": [
    {
     "name": "stdout",
     "output_type": "stream",
     "text": [
      "Words whose presence most strongly predicts ham:\n",
      "[['to' 'am' 'on' '2000' 'kaminski' 'hou' 'the' 'vince' 'enron' 'ect']]\n",
      "Words whose absence most strongly predicts ham:\n",
      "[['viagra' 'online' 'here' 'save' 'adobe' 'money' 'click' 'website'\n",
      "  'software' 'your']]\n",
      "Words whose presence most strongly predicts spam:\n",
      "[['viagra' 'online' 'here' 'save' 'adobe' 'money' 'click' 'website'\n",
      "  'software' 'your']]\n",
      "Words whose absence most strongly predicts spam:\n",
      "[['to' 'am' 'on' '2000' 'kaminski' 'hou' 'the' 'vince' 'enron' 'ect']]\n"
     ]
    }
   ],
   "source": [
    "### unigram\n",
    "\n",
    "\n",
    "\n",
    "vectorizer = CountVectorizer(ngram_range=(1, 1))\n",
    "X_train_counts = vectorizer.fit_transform(X_train)\n",
    "X_test_counts = vectorizer.transform(X_test)\n",
    "\n",
    "\n",
    "tfidf_transformer = TfidfTransformer()\n",
    "X_train_tfidf = tfidf_transformer.fit_transform(X_train_counts)\n",
    "X_test_tfidf = tfidf_transformer.transform(X_test_counts)\n",
    "\n",
    "\n",
    "nb = NaiveBayes()\n",
    "nb.fit(X_train_tfidf, y_train)\n",
    "\n",
    "feature_names = vectorizer.get_feature_names_out()\n",
    "class_prior = nb.class_priors\n",
    "feature_prob = nb.feature_probs\n",
    "\n",
    "\n",
    "ham_word_probs = feature_prob[0]\n",
    "spam_word_probs = feature_prob[1]\n",
    "\n",
    "\n",
    "# Words whose presence most strongly predicts ham\n",
    "ham_presence_predictors = np.argsort(ham_word_probs - spam_word_probs)[0,-10:]\n",
    "ham_presence_words = feature_names[ham_presence_predictors]\n",
    "\n",
    "# Words whose absence most strongly predicts ham\n",
    "ham_absence_predictors = np.argsort(spam_word_probs - ham_word_probs)[0,-10:]\n",
    "ham_absence_words = feature_names[ham_absence_predictors]\n",
    "\n",
    "# Words whose presence most strongly predicts spam\n",
    "spam_presence_predictors = np.argsort(spam_word_probs - ham_word_probs)[0,-10:]\n",
    "spam_presence_words = feature_names[spam_presence_predictors]\n",
    "\n",
    "# Words whose absence most strongly predicts spam\n",
    "spam_absence_predictors = np.argsort(ham_word_probs - spam_word_probs)[0,-10:]\n",
    "spam_absence_words = feature_names[spam_absence_predictors]\n",
    "\n",
    "print(\"Words whose presence most strongly predicts ham:\")\n",
    "print(ham_presence_words)\n",
    "\n",
    "print(\"Words whose absence most strongly predicts ham:\")\n",
    "print(ham_absence_words)\n",
    "\n",
    "print(\"Words whose presence most strongly predicts spam:\")\n",
    "print(spam_presence_words)\n",
    "\n",
    "print(\"Words whose absence most strongly predicts spam:\")\n",
    "print(spam_absence_words)\n",
    "\n"
   ]
  },
  {
   "cell_type": "code",
   "outputs": [
    {
     "name": "stdout",
     "output_type": "stream",
     "text": [
      "Words whose presence most strongly predicts ham:\n",
      "[['enron enron' 'ect cc' 'pm to' 'kaminski hou' 'cc subject' 'enron com'\n",
      "  'subject re' 'vince kaminski' 'ect ect' 'hou ect']]\n",
      "Words whose absence most strongly predicts ham:\n",
      "[['your company' 'submit your' 'to save' 'save your' 'not interested'\n",
      "  'into your' 'here to' 'your business' 'click here' 'your website']]\n",
      "Words whose presence most strongly predicts spam:\n",
      "[['your company' 'submit your' 'to save' 'save your' 'not interested'\n",
      "  'into your' 'here to' 'your business' 'click here' 'your website']]\n",
      "Words whose absence most strongly predicts spam:\n",
      "[['enron enron' 'ect cc' 'pm to' 'kaminski hou' 'cc subject' 'enron com'\n",
      "  'subject re' 'vince kaminski' 'ect ect' 'hou ect']]\n"
     ]
    }
   ],
   "source": [
    "### bigram\n",
    "\n",
    "vectorizer = CountVectorizer(ngram_range=(2, 2))\n",
    "X_train_counts = vectorizer.fit_transform(X_train)\n",
    "X_test_counts = vectorizer.transform(X_test)\n",
    "\n",
    "\n",
    "tfidf_transformer = TfidfTransformer()\n",
    "X_train_tfidf = tfidf_transformer.fit_transform(X_train_counts)\n",
    "X_test_tfidf = tfidf_transformer.transform(X_test_counts)\n",
    "\n",
    "nb = NaiveBayes()\n",
    "nb.fit(X_train_tfidf, y_train)\n",
    "\n",
    "feature_names = vectorizer.get_feature_names_out()\n",
    "class_prior = nb.class_priors\n",
    "feature_prob = nb.feature_probs\n",
    "\n",
    "\n",
    "ham_word_probs = feature_prob[0]\n",
    "spam_word_probs = feature_prob[1]\n",
    "\n",
    "# Words whose presence most strongly predicts ham\n",
    "ham_presence_predictors = np.argsort(ham_word_probs - spam_word_probs)[0,-10:]\n",
    "ham_presence_words = feature_names[ham_presence_predictors]\n",
    "\n",
    "# Words whose absence most strongly predicts ham\n",
    "ham_absence_predictors = np.argsort(spam_word_probs - ham_word_probs)[0,-10:]\n",
    "ham_absence_words = feature_names[ham_absence_predictors]\n",
    "\n",
    "# Words whose presence most strongly predicts spam\n",
    "spam_presence_predictors = np.argsort(spam_word_probs - ham_word_probs)[0,-10:]\n",
    "spam_presence_words = feature_names[spam_presence_predictors]\n",
    "\n",
    "# Words whose absence most strongly predicts spam\n",
    "spam_absence_predictors = np.argsort(ham_word_probs - spam_word_probs)[0,-10:]\n",
    "spam_absence_words = feature_names[spam_absence_predictors]\n",
    "\n",
    "print(\"Words whose presence most strongly predicts ham:\")\n",
    "print(ham_presence_words)\n",
    "\n",
    "print(\"Words whose absence most strongly predicts ham:\")\n",
    "print(ham_absence_words)\n",
    "\n",
    "print(\"Words whose presence most strongly predicts spam:\")\n",
    "print(spam_presence_words)\n",
    "\n",
    "print(\"Words whose absence most strongly predicts spam:\")\n",
    "print(spam_absence_words)"
   ],
   "metadata": {
    "collapsed": false,
    "ExecuteTime": {
     "end_time": "2024-05-20T16:47:42.824932Z",
     "start_time": "2024-05-20T16:47:38.274380Z"
    }
   },
   "id": "2977fdadc4de44ce",
   "execution_count": 105
  },
  {
   "cell_type": "markdown",
   "source": [
    "* Presence vs. Absence in Predicting Ham:\n",
    "\n",
    "    * Presence: The words and bigrams that predict ham are generally neutral or context-specific to business communication (e.g., 'kaminski', 'enron').\n",
    "    * Absence: The absence of spam-associated words and bigrams (e.g., 'viagra', 'your business') strongly predicts ham.\n",
    "* Presence vs. Absence in Predicting Spam:\n",
    "\n",
    "    * Presence: The presence of words and bigrams associated with sales, advertisements, and online services (e.g., 'viagra', 'click here') predicts spam.\n",
    "    * Absence: The absence of context-specific business words and bigrams (e.g., 'kaminski', 'enron') suggests that the email is more likely to be spam.\n",
    "    \n",
    "* The terms 'kaminski', 'enron', and 'vince' are names associated with the Enron email dataset, which is commonly used in studies of email classification, particularly for spam versus ham (legitimate email) filtering. Here's the significance of each term:\n",
    "\n",
    "* Kaminski: Refers to Vince Kaminski, who was a prominent employee at Enron Corporation. Vince Kaminski was the Managing Director of Research at Enron and had extensive email communication within the company. The presence of the word 'kaminski' in emails is a strong indicator of legitimate internal business communication, or \"ham.\"\n",
    "\n",
    "* Enron: This term refers to Enron Corporation, an American energy, commodities, and services company that went bankrupt in 2001. The Enron email corpus is a collection of emails from Enron employees, and 'enron' as a term is frequently found in legitimate internal emails within the dataset.\n",
    "\n",
    "* Vince: Refers to Vince Kaminski, as mentioned above. The first name 'Vince' is often used in the Enron emails and, in this context, helps identify internal, legitimate communication within the company."
   ],
   "metadata": {
    "collapsed": false
   },
   "id": "8ab3439f7be6d971"
  },
  {
   "cell_type": "code",
   "outputs": [],
   "source": [],
   "metadata": {
    "collapsed": false
   },
   "id": "9aa51af32ac7bbe9",
   "execution_count": null
  },
  {
   "cell_type": "markdown",
   "id": "jmXtUlKfxvwf",
   "metadata": {
    "id": "jmXtUlKfxvwf"
   },
   "source": [
    "### 6. Stopword Handling\n",
    "Analyze the effect of stopwords on the model’s interpretation, discussing reasons for removing or keeping them.\n",
    "* Reasons for Removing Stopwords:\n",
    "    * Noise Reduction: Stopwords can be considered noise in the data. By removing them, you might help the model focus on words that have more significant predictive power for the task at hand.\n",
    "    * Dimensionality Reduction: Removing stopwords reduces the dimensionality of the feature space, which can lead to faster training and classification times and lower memory consumption.\n",
    "    * Preventing Bias: Stopwords are usually equally common in all classes of the data. Leaving them in might lead to a bias where the model overfits to the frequency of these words rather than their predictive power.\n",
    "* Reasons for Keeping Stopwords:\n",
    "    * Contextual Meaning: Sometimes, stopwords can carry important meanings in certain contexts. For example, the phrase \"not good\" is clearly negative, but if \"not\" is removed as a stopword, the sentiment might be incorrectly interpreted as positive. \n",
    "    * Phrase and Collocation Recognition: When building bigram or n-gram models, stopwords can be part of important phrases (\"Queen of England\") or collocations (\"due to\"). Removing them could lead to loss of such information.\n",
    "    * Language Nuances: Different languages have different stopwords, and their use can also vary based on context. Automatically removing stopwords without considering these nuances may oversimplify the model and affect its accuracy. "
   ]
  },
  {
   "cell_type": "markdown",
   "id": "-mg-T9xyp6kf",
   "metadata": {
    "id": "-mg-T9xyp6kf"
   },
   "source": [
    "Data preprocessing is one of the critical steps in any machine learning project. It includes cleaning and formatting the data before feeding into a machine learning algorithm. For NLP, the preprocessing steps are comprised of the following tasks:\n",
    "\n",
    "* Tokenizing the string\n",
    "* Lowercasing\n",
    "* Removing stop words and punctuation\n",
    "* Stemming"
   ]
  },
  {
   "cell_type": "code",
   "execution_count": 106,
   "id": "zsTgb-YRmxJ7",
   "metadata": {
    "id": "zsTgb-YRmxJ7",
    "ExecuteTime": {
     "end_time": "2024-05-20T16:47:42.917756Z",
     "start_time": "2024-05-20T16:47:42.851305Z"
    }
   },
   "outputs": [
    {
     "name": "stderr",
     "output_type": "stream",
     "text": [
      "[nltk_data] Downloading package stopwords to\n",
      "[nltk_data]     /Users/gokdeniz/nltk_data...\n",
      "[nltk_data]   Package stopwords is already up-to-date!\n"
     ]
    },
    {
     "data": {
      "text/plain": "True"
     },
     "execution_count": 106,
     "metadata": {},
     "output_type": "execute_result"
    }
   ],
   "source": [
    "import re\n",
    "import nltk\n",
    "from nltk.corpus import stopwords\n",
    "from nltk.stem import PorterStemmer\n",
    "nltk.download('stopwords')"
   ]
  },
  {
   "cell_type": "code",
   "execution_count": 107,
   "id": "soiW2y0Cp0md",
   "metadata": {
    "id": "soiW2y0Cp0md",
    "ExecuteTime": {
     "end_time": "2024-05-20T16:47:43.006809Z",
     "start_time": "2024-05-20T16:47:42.873822Z"
    }
   },
   "outputs": [],
   "source": [
    "\n",
    "# Ensure you have the necessary NLTK data downloaded\n",
    "# import nltk\n",
    "# nltk.download('punkt')\n",
    "# nltk.download('stopwords')\n",
    "\n",
    "def process_mail(mail):\n",
    "    mail = mail.lower()\n",
    "    # Remove HTML tags\n",
    "    mail = re.sub(r'<.*?>', '', mail)\n",
    "    # Remove URLs\n",
    "    mail = re.sub(r'http\\S+', '', mail)\n",
    "    # Remove punctuation and numbers\n",
    "    mail = re.sub(r'[^a-zA-Z\\s]', '', mail)\n",
    "    # Tokenization\n",
    "    tokens = mail.split()\n",
    "    # Remove stopwords\n",
    "    stop_words = set(stopwords.words('english'))\n",
    "    tokens = [word for word in tokens if word not in stop_words]\n",
    "    # Stemming\n",
    "    stemmer = PorterStemmer()\n",
    "    mails_clean = [stemmer.stem(word) for word in tokens]\n",
    "    mails_clean = ' '.join(mails_clean)\n",
    "    \n",
    "    return mails_clean\n",
    "\n"
   ]
  },
  {
   "cell_type": "code",
   "execution_count": 108,
   "id": "A0qIbvusQS6W",
   "metadata": {
    "id": "A0qIbvusQS6W",
    "ExecuteTime": {
     "end_time": "2024-05-20T16:47:58.231347Z",
     "start_time": "2024-05-20T16:47:42.888632Z"
    }
   },
   "outputs": [],
   "source": [
    "## process all training data\n",
    "X_train_clean = [process_mail(mail) for mail in X_train]\n"
   ]
  },
  {
   "cell_type": "code",
   "execution_count": 109,
   "id": "tbL_vuGuudK9",
   "metadata": {
    "id": "tbL_vuGuudK9",
    "ExecuteTime": {
     "end_time": "2024-05-20T16:48:02.384732Z",
     "start_time": "2024-05-20T16:47:58.235048Z"
    }
   },
   "outputs": [],
   "source": [
    "## process all test data\n",
    "X_test_clean = [process_mail(mail) for mail in X_test]"
   ]
  },
  {
   "cell_type": "markdown",
   "id": "XQihheD8wm_m",
   "metadata": {
    "id": "XQihheD8wm_m"
   },
   "source": [
    "#### Training with Unigram (Stop Words Removed)"
   ]
  },
  {
   "cell_type": "code",
   "execution_count": 110,
   "id": "594a1a80",
   "metadata": {
    "id": "594a1a80",
    "ExecuteTime": {
     "end_time": "2024-05-20T16:48:05.047691Z",
     "start_time": "2024-05-20T16:48:02.430172Z"
    }
   },
   "outputs": [],
   "source": [
    "vectorizer_unigram_clean = CountVectorizer(ngram_range=(1, 1))\n",
    "X_train_unigram_clean = vectorizer_unigram_clean.fit_transform(X_train_clean).toarray()\n",
    "X_test_unigram_clean = vectorizer_unigram_clean.transform(X_test_clean).toarray()\n",
    "\n",
    "\n",
    "nb_unigram_clean = NaiveBayes()\n",
    "nb_unigram_clean.fit(X_train_unigram_clean, y_train)"
   ]
  },
  {
   "cell_type": "markdown",
   "id": "n9U6h4ggn9iR",
   "metadata": {
    "id": "n9U6h4ggn9iR"
   },
   "source": [
    "#### Testing with Unigram (Stop Words Removed)"
   ]
  },
  {
   "cell_type": "code",
   "execution_count": 111,
   "id": "5152ffa7",
   "metadata": {
    "id": "5152ffa7",
    "ExecuteTime": {
     "end_time": "2024-05-20T16:48:05.447741Z",
     "start_time": "2024-05-20T16:48:05.048073Z"
    }
   },
   "outputs": [
    {
     "name": "stdout",
     "output_type": "stream",
     "text": [
      "Stop Words Removed - Unigram  Accuracy: 0.9825479930191972\n",
      "Stop Words Removed - Unigram Classification Report:\n",
      "               precision    recall  f1-score   support\n",
      "\n",
      "           0       0.98      0.99      0.99       856\n",
      "           1       0.98      0.95      0.96       290\n",
      "\n",
      "    accuracy                           0.98      1146\n",
      "   macro avg       0.98      0.97      0.98      1146\n",
      "weighted avg       0.98      0.98      0.98      1146\n"
     ]
    }
   ],
   "source": [
    "y_pred_unigram_clean = nb_unigram_clean.predict(X_test_unigram_clean)\n",
    "print(\"Stop Words Removed - Unigram  Accuracy:\", accuracy_score(y_test, y_pred_unigram_clean))\n",
    "print(\"Stop Words Removed - Unigram Classification Report:\\n\", classification_report(y_test, y_pred_unigram_clean))"
   ]
  },
  {
   "cell_type": "markdown",
   "id": "01-nb1rEkuq0",
   "metadata": {
    "id": "01-nb1rEkuq0"
   },
   "source": [
    "#### Training and Testing with Bigram (Stop Words Removed)"
   ]
  },
  {
   "cell_type": "code",
   "outputs": [],
   "source": [
    "vectorizer_bigram_clean = CountVectorizer(ngram_range=(2, 2))\n",
    "X_train_bigram_clean = vectorizer_bigram_clean.fit_transform(X_train_clean).toarray()\n",
    "X_test_bigram_clean = vectorizer_bigram_clean.transform(X_test_clean).toarray()\n",
    "\n",
    "nb_bigram_clean = NaiveBayes()\n",
    "nb_bigram_clean.fit(X_train_bigram_clean, y_train)"
   ],
   "metadata": {
    "collapsed": false,
    "ExecuteTime": {
     "end_time": "2024-05-20T16:48:42.705917Z",
     "start_time": "2024-05-20T16:48:05.763662Z"
    }
   },
   "id": "5b6e0745881ced16",
   "execution_count": 112
  },
  {
   "cell_type": "code",
   "outputs": [
    {
     "name": "stdout",
     "output_type": "stream",
     "text": [
      "Stop Words Removed - Bigram Accuracy: 0.9650959860383944\n",
      "Stop Words Removed - Bigram Classification Report:\n",
      "               precision    recall  f1-score   support\n",
      "\n",
      "           0       0.99      0.96      0.98       856\n",
      "           1       0.89      0.98      0.93       290\n",
      "\n",
      "    accuracy                           0.97      1146\n",
      "   macro avg       0.94      0.97      0.96      1146\n",
      "weighted avg       0.97      0.97      0.97      1146\n"
     ]
    }
   ],
   "source": [
    "y_pred_bigram_clean = nb_bigram_clean.predict(X_test_bigram_clean)\n",
    "print(\"Stop Words Removed - Bigram Accuracy:\", accuracy_score(y_test, y_pred_bigram_clean))\n",
    "print(\"Stop Words Removed - Bigram Classification Report:\\n\", classification_report(y_test, y_pred_bigram_clean))"
   ],
   "metadata": {
    "collapsed": false,
    "ExecuteTime": {
     "end_time": "2024-05-20T16:48:47.191089Z",
     "start_time": "2024-05-20T16:48:42.736854Z"
    }
   },
   "id": "c4c49a8583118b48",
   "execution_count": 113
  },
  {
   "cell_type": "code",
   "execution_count": 113,
   "id": "a1fcddf6",
   "metadata": {
    "id": "a1fcddf6",
    "ExecuteTime": {
     "end_time": "2024-05-20T16:48:47.208297Z",
     "start_time": "2024-05-20T16:48:47.203089Z"
    }
   },
   "outputs": [],
   "source": []
  },
  {
   "cell_type": "markdown",
   "id": "UKbw8pJhOARp",
   "metadata": {
    "id": "UKbw8pJhOARp"
   },
   "source": [
    "#### Analyzing the Stopwords"
   ]
  },
  {
   "cell_type": "markdown",
   "id": "4aed98cd",
   "metadata": {
    "id": "4aed98cd"
   },
   "source": [
    "* Identify and handle common stopwords.\n",
    "* List the 10 non-stopwords that most strongly predict that an email is ham.\n",
    "* List the 10 non-stopwords that most strongly predict that an email is spam."
   ]
  },
  {
   "cell_type": "code",
   "outputs": [
    {
     "name": "stdout",
     "output_type": "stream",
     "text": [
      "Words whose presence most strongly predicts ham:\n",
      "[['would' 'research' 'cc' 'pm' 'thank' 'kaminski' 'hou' 'vinc' 'enron'\n",
      "  'ect']]\n",
      "Words whose absence most strongly predicts ham:\n",
      "[['viagra' 'onlin' 'remov' 'logo' 'adob' 'save' 'money' 'click' 'websit'\n",
      "  'softwar']]\n",
      "Words whose presence most strongly predicts spam:\n",
      "[['viagra' 'onlin' 'remov' 'logo' 'adob' 'save' 'money' 'click' 'websit'\n",
      "  'softwar']]\n",
      "Words whose absence most strongly predicts spam:\n",
      "[['would' 'research' 'cc' 'pm' 'thank' 'kaminski' 'hou' 'vinc' 'enron'\n",
      "  'ect']]\n"
     ]
    }
   ],
   "source": [
    "tfidf_transformer = TfidfTransformer()\n",
    "X_train_tfidf_clean_unigram = tfidf_transformer.fit_transform(X_train_unigram_clean)\n",
    "X_test_tfidf_clean_unigram = tfidf_transformer.transform(X_test_unigram_clean)\n",
    "\n",
    "nb = NaiveBayes()\n",
    "nb.fit(X_train_tfidf_clean_unigram, y_train)\n",
    "\n",
    "feature_names = vectorizer_unigram_clean.get_feature_names_out()\n",
    "class_prior = nb.class_priors\n",
    "feature_prob = nb.feature_probs\n",
    "\n",
    "\n",
    "ham_word_probs = feature_prob[0]\n",
    "spam_word_probs = feature_prob[1]\n",
    "\n",
    "# Words whose presence most strongly predicts ham\n",
    "ham_presence_predictors = np.argsort(ham_word_probs - spam_word_probs)[0,-10:]\n",
    "ham_presence_words = feature_names[ham_presence_predictors]\n",
    "\n",
    "# Words whose absence most strongly predicts ham\n",
    "ham_absence_predictors = np.argsort(spam_word_probs - ham_word_probs)[0,-10:]\n",
    "ham_absence_words = feature_names[ham_absence_predictors]\n",
    "\n",
    "# Words whose presence most strongly predicts spam\n",
    "spam_presence_predictors = np.argsort(spam_word_probs - ham_word_probs)[0,-10:]\n",
    "spam_presence_words = feature_names[spam_presence_predictors]\n",
    "\n",
    "# Words whose absence most strongly predicts spam\n",
    "spam_absence_predictors = np.argsort(ham_word_probs - spam_word_probs)[0,-10:]\n",
    "spam_absence_words = feature_names[spam_absence_predictors]\n",
    "\n",
    "print(\"Words whose presence most strongly predicts ham:\")\n",
    "print(ham_presence_words)\n",
    "\n",
    "print(\"Words whose absence most strongly predicts ham:\")\n",
    "print(ham_absence_words)\n",
    "\n",
    "print(\"Words whose presence most strongly predicts spam:\")\n",
    "print(spam_presence_words)\n",
    "\n",
    "print(\"Words whose absence most strongly predicts spam:\")\n",
    "print(spam_absence_words)\n",
    "\n"
   ],
   "metadata": {
    "collapsed": false,
    "ExecuteTime": {
     "end_time": "2024-05-20T16:48:51.832952Z",
     "start_time": "2024-05-20T16:48:47.233741Z"
    }
   },
   "id": "c92c623facbe15dc",
   "execution_count": 114
  },
  {
   "cell_type": "code",
   "execution_count": 115,
   "id": "d6f95bed",
   "metadata": {
    "id": "d6f95bed",
    "ExecuteTime": {
     "end_time": "2024-05-20T16:50:45.376044Z",
     "start_time": "2024-05-20T16:48:51.855993Z"
    }
   },
   "outputs": [
    {
     "name": "stdout",
     "output_type": "stream",
     "text": [
      "Words whose presence most strongly predicts ham:\n",
      "[['shirley crenshaw' 'enron enron' 'let know' 'ect cc' 'kaminski hou'\n",
      "  'cc subject' 'enron com' 'vinc kaminski' 'ect ect' 'hou ect']]\n",
      "Words whose absence most strongly predicts ham:\n",
      "[['local softwar' 'oem softwar' 'tue jul' 'adob premier' 'cs adob'\n",
      "  'softwar need' 'save money' 'subject save' 'search engin'\n",
      "  'submit websit']]\n",
      "Words whose presence most strongly predicts spam:\n",
      "[['local softwar' 'oem softwar' 'tue jul' 'adob premier' 'cs adob'\n",
      "  'softwar need' 'save money' 'subject save' 'search engin'\n",
      "  'submit websit']]\n",
      "Words whose absence most strongly predicts spam:\n",
      "[['shirley crenshaw' 'enron enron' 'let know' 'ect cc' 'kaminski hou'\n",
      "  'cc subject' 'enron com' 'vinc kaminski' 'ect ect' 'hou ect']]\n"
     ]
    }
   ],
   "source": [
    "tfidf_transformer = TfidfTransformer()\n",
    "X_train_tfidf_clean_bigram = tfidf_transformer.fit_transform(X_train_bigram_clean)\n",
    "X_test_tfidf_clean_bigram = tfidf_transformer.transform(X_test_bigram_clean)\n",
    "\n",
    "nb = NaiveBayes()\n",
    "nb.fit(X_train_tfidf_clean_bigram, y_train)\n",
    "\n",
    "feature_names = vectorizer_bigram_clean.get_feature_names_out()\n",
    "class_prior = nb.class_priors\n",
    "feature_prob = nb.feature_probs\n",
    "\n",
    "\n",
    "ham_word_probs = feature_prob[0]\n",
    "spam_word_probs = feature_prob[1]\n",
    "\n",
    "# Words whose presence most strongly predicts ham\n",
    "ham_presence_predictors = np.argsort(ham_word_probs - spam_word_probs)[0,-10:]\n",
    "ham_presence_words = feature_names[ham_presence_predictors]\n",
    "\n",
    "# Words whose absence most strongly predicts ham\n",
    "ham_absence_predictors = np.argsort(spam_word_probs - ham_word_probs)[0,-10:]\n",
    "ham_absence_words = feature_names[ham_absence_predictors]\n",
    "\n",
    "# Words whose presence most strongly predicts spam\n",
    "spam_presence_predictors = np.argsort(spam_word_probs - ham_word_probs)[0,-10:]\n",
    "spam_presence_words = feature_names[spam_presence_predictors]\n",
    "\n",
    "# Words whose absence most strongly predicts spam\n",
    "spam_absence_predictors = np.argsort(ham_word_probs - spam_word_probs)[0,-10:]\n",
    "spam_absence_words = feature_names[spam_absence_predictors]\n",
    "\n",
    "print(\"Words whose presence most strongly predicts ham:\")\n",
    "print(ham_presence_words)\n",
    "\n",
    "print(\"Words whose absence most strongly predicts ham:\")\n",
    "print(ham_absence_words)\n",
    "\n",
    "print(\"Words whose presence most strongly predicts spam:\")\n",
    "print(spam_presence_words)\n",
    "\n",
    "print(\"Words whose absence most strongly predicts spam:\")\n",
    "print(spam_absence_words)\n",
    "\n"
   ]
  },
  {
   "cell_type": "markdown",
   "source": [
    "* Reasons for Removing or Keeping Stopwords\n",
    "    * Reasons to Remove Stopwords:\n",
    "    \n",
    "        * Noise Reduction: Stopwords are common across all documents and may add noise rather than useful information, especially in content-heavy classification.\n",
    "        * Improved Focus: Removing stopwords allows the model to focus on more meaningful words that carry the actual information about the content and context of the email.\n",
    "        * Dimensionality Reduction: It reduces the number of features, which can improve computational efficiency and potentially model performance, especially with models that handle large vocabularies.\n",
    "    * Reasons to Keep Stopwords:\n",
    "    \n",
    "        * Context Preservation: In some cases, stopwords contribute to the syntactic structure and can help in understanding the context and meaning of the sentences.\n",
    "        * Predictive Power: As seen in the unigram model, the presence and absence of certain stopwords can still be predictive of ham or spam, particularly in domains where these words have distinct usage patterns.\n",
    "        * Domain Specificity: In certain contexts, stopwords might be part of key phrases or jargon specific to the domain (e.g., 'cc', 'pm' in business emails), which can be important for accurate classification.\n",
    "* Conclusion\n",
    "    * The decision to remove or keep stopwords depends on the specific characteristics of the dataset and the model being used. In this case, both approaches show strong performance, but with some variations. Removing stopwords generally helps to focus on more significant words and reduces dimensionality, potentially improving the model's efficiency and interpretability. However, keeping stopwords can also be beneficial in retaining contextual information, especially in domain-specific corpora. A balanced approach might involve selectively removing certain common stopwords while retaining others that are contextually important."
   ],
   "metadata": {
    "collapsed": false
   },
   "id": "8e4975ef35af94f3"
  },
  {
   "cell_type": "markdown",
   "source": [
    "#### Performance Analysis"
   ],
   "metadata": {
    "collapsed": false
   },
   "id": "e17696545aa7ec40"
  },
  {
   "cell_type": "markdown",
   "source": [
    "* Unigram Model\n",
    "    * Accuracy: 0.9825\n",
    "    * Class 0 (Non-Positive)\n",
    "        * Precision: 0.98\n",
    "        * Recall: 1.00\n",
    "        * F1-score: 0.99\n",
    "    * Class 1 (Positive)\n",
    "        * Precision: 0.99\n",
    "        * Recall: 0.94\n",
    "        * F1-score: 0.96\n",
    "    * The unigram model shows a high accuracy of 98.25%, indicating that the classifier performs very well overall. The precision and recall for class 0 are near perfect, while class 1 has slightly lower recall, indicating a few positive instances are missed.\n",
    "\n",
    "* Bigram Model\n",
    "    * Accuracy: 0.9799\n",
    "    * Class 0\n",
    "        * Precision: 0.99\n",
    "        * Recall: 0.98\n",
    "        * F1-score: 0.99\n",
    "    * Class 1\n",
    "        * Precision: 0.94\n",
    "        * Recall: 0.98\n",
    "        * F1-score: 0.96\n",
    "    * The bigram model also performs very well, with an accuracy of 97.99%. It has slightly lower precision for class 1 compared to the unigram model but compensates with higher recall, suggesting that the bigram model identifies more positive instances but at the cost of a few more false positives.\n",
    "\n",
    "\n",
    "* Unigram Model with Stop Words Removed\n",
    "    * Accuracy: 0.9825\n",
    "    * Class 0\n",
    "        * Precision: 0.98\n",
    "        * Recall: 0.99\n",
    "        * F1-score: 0.99\n",
    "    * Class 1\n",
    "        * Precision: 0.98\n",
    "        * Recall: 0.95\n",
    "        * F1-score: 0.96\n",
    "    * Removing stop words in the unigram model maintains the same high accuracy of 98.25%. Precision for class 1 improves, indicating that the model is better at identifying positive instances accurately. Recall slightly decreases but remains robust.\n",
    "\n",
    "* Bigram Model with Stop Words Removed\n",
    "    * Accuracy: 0.9651\n",
    "    * Class 0\n",
    "        * Precision: 0.99\n",
    "        * Recall: 0.96\n",
    "        * F1-score: 0.98\n",
    "    * Class 1\n",
    "        * Precision: 0.89\n",
    "        * Recall: 0.98\n",
    "        * F1-score: 0.93\n",
    "    * Removing stop words in the bigram model leads to a decrease in accuracy to 96.51%. The precision for class 1 drops significantly to 0.89, suggesting more false positives, though recall remains high at 0.98.\n",
    "\n",
    "* Discussion\n",
    "    * Accuracy is high across all models, indicating that the Naive Bayes classifier is effective for this dataset.\n",
    "    * Precision is consistently high for class 0 in all models, meaning non-positive predictions are very accurate. Class 1 precision varies more, particularly dropping in the stop-word-removed bigram model.\n",
    "    * Recall for class 0 is highest in the unigram and stop-word-removed unigram models, while recall for class 1 is highest in the bigram and stop-word-removed bigram models.\n",
    "    * F1-score balances precision and recall, with the unigram and bigram models performing similarly well. The unigram model with stop words removed performs very well, though the bigram model with stop words removed shows a drop in performance, indicating that removing stop words may have a negative impact on bigram models.\n",
    "    "
   ],
   "metadata": {
    "collapsed": false
   },
   "id": "36b935204f24823f"
  }
 ],
 "metadata": {
  "colab": {
   "collapsed_sections": [
    "NoBnqawf6aj3",
    "_AGeFB1k6FA5",
    "0g05fTF-O72H",
    "nr8JJ9lb7Q_H",
    "-nASDnRjz8kT",
    "dM6X55to0Fuz",
    "k8Wji9IdRHNn",
    "mbp-E6b7x7Zm",
    "jmXtUlKfxvwf",
    "XQihheD8wm_m",
    "n9U6h4ggn9iR",
    "UKbw8pJhOARp"
   ],
   "provenance": []
  },
  "kernelspec": {
   "display_name": "Python 3 (ipykernel)",
   "language": "python",
   "name": "python3"
  },
  "language_info": {
   "codemirror_mode": {
    "name": "ipython",
    "version": 3
   },
   "file_extension": ".py",
   "mimetype": "text/x-python",
   "name": "python",
   "nbconvert_exporter": "python",
   "pygments_lexer": "ipython3",
   "version": "3.8.2"
  }
 },
 "nbformat": 4,
 "nbformat_minor": 5
}
